{
 "cells": [
  {
   "cell_type": "code",
   "execution_count": 1,
   "metadata": {},
   "outputs": [
    {
     "name": "stdout",
     "output_type": "stream",
     "text": [
      "package.gh-pages.json\n",
      "package.manage.json\n",
      "yarn.lock\n",
      "package.json\n",
      "edit.ipynb\n",
      "package.json-view.json\n",
      "package.lint.json\n",
      "package.typescript.json\n",
      "package.mui.json\n",
      "package.storybook.json\n",
      "package.html-viewer.json\n",
      "package.scripts.json\n",
      "package.base.json\n",
      "package.os.json\n",
      "package.vite.json\n",
      "package.merged.json\n"
     ]
    }
   ],
   "source": [
    "import os\n",
    "\n",
    "contents = os.listdir('.')\n",
    "\n",
    "# 결과 출력\n",
    "for item in contents:\n",
    "    print(item)"
   ]
  },
  {
   "cell_type": "code",
   "execution_count": 7,
   "metadata": {},
   "outputs": [],
   "source": [
    "for item in contents:\n",
    "    if item.startswith(\"package\"):\n",
    "        text = open(item).read()\n",
    "        open(item.replace(\"package.\", \"\"), \"w\").write(text)"
   ]
  }
 ],
 "metadata": {
  "kernelspec": {
   "display_name": "base",
   "language": "python",
   "name": "python3"
  },
  "language_info": {
   "codemirror_mode": {
    "name": "ipython",
    "version": 3
   },
   "file_extension": ".py",
   "mimetype": "text/x-python",
   "name": "python",
   "nbconvert_exporter": "python",
   "pygments_lexer": "ipython3",
   "version": "3.12.2"
  }
 },
 "nbformat": 4,
 "nbformat_minor": 2
}
